{
 "cells": [
  {
   "cell_type": "markdown",
   "metadata": {},
   "source": [
    "# Name:\n",
    "# Roll No.:\n",
    "# Assignment 6"
   ]
  },
  {
   "cell_type": "markdown",
   "metadata": {},
   "source": [
    "# Instruction"
   ]
  },
  {
   "cell_type": "markdown",
   "metadata": {},
   "source": [
    "1. Don’t plagiarize, Plagiarism would lead to straight zero\n",
    "2. Clearly mention your NAME and ROLL NO#.\n",
    "3. Late submissions are not allowed. Start Early."
   ]
  },
  {
   "cell_type": "code",
   "execution_count": 2,
   "metadata": {},
   "outputs": [],
   "source": [
    "#import libraries\n",
    "import time\n",
    "import pandas as pd\n",
    "from selenium import webdriver\n",
    "from selenium.webdriver.edge.options import Options\n",
    "from selenium.webdriver.common.keys import Keys\n",
    "# from webdriver_manager.chrome import ChromeDriverManager\n",
    "from selenium.webdriver.common.by import By\n",
    "from selenium.common.exceptions import NoSuchElementException"
   ]
  },
  {
   "cell_type": "markdown",
   "metadata": {},
   "source": [
    "# Question 1"
   ]
  },
  {
   "cell_type": "markdown",
   "metadata": {},
   "source": [
    "Scrape 2 pages of the reviews for a single product listing using product URL.<br /> Note: Product must have more than 1 review page. The code must be generic and should work for every product listing URL, with proper checks in place."
   ]
  },
  {
   "cell_type": "code",
   "execution_count": 18,
   "metadata": {},
   "outputs": [],
   "source": [
    "url = 'input url here'"
   ]
  },
  {
   "cell_type": "code",
   "execution_count": 22,
   "metadata": {},
   "outputs": [
    {
     "data": {
      "text/html": [
       "<div>\n",
       "<style scoped>\n",
       "    .dataframe tbody tr th:only-of-type {\n",
       "        vertical-align: middle;\n",
       "    }\n",
       "\n",
       "    .dataframe tbody tr th {\n",
       "        vertical-align: top;\n",
       "    }\n",
       "\n",
       "    .dataframe thead th {\n",
       "        text-align: right;\n",
       "    }\n",
       "</style>\n",
       "<table border=\"1\" class=\"dataframe\">\n",
       "  <thead>\n",
       "    <tr style=\"text-align: right;\">\n",
       "      <th></th>\n",
       "      <th>Name</th>\n",
       "      <th>Review text</th>\n",
       "    </tr>\n",
       "  </thead>\n",
       "  <tbody>\n",
       "    <tr>\n",
       "      <th>0</th>\n",
       "      <td>Nabeel B.</td>\n",
       "      <td>Cellphone is great, was delivered on said time...</td>\n",
       "    </tr>\n",
       "    <tr>\n",
       "      <th>1</th>\n",
       "      <td>Salman R.</td>\n",
       "      <td>Great response excellent delivery time and pro...</td>\n",
       "    </tr>\n",
       "    <tr>\n",
       "      <th>2</th>\n",
       "      <td>Mohammad H.</td>\n",
       "      <td>One of the best in it's category. highly recom...</td>\n",
       "    </tr>\n",
       "    <tr>\n",
       "      <th>3</th>\n",
       "      <td>M***.</td>\n",
       "      <td>Very good product daraz good service thankx</td>\n",
       "    </tr>\n",
       "    <tr>\n",
       "      <th>4</th>\n",
       "      <td>hamxa M.</td>\n",
       "      <td>Original product and good packing</td>\n",
       "    </tr>\n",
       "    <tr>\n",
       "      <th>5</th>\n",
       "      <td>Saqlain A.</td>\n",
       "      <td>Sir warranty card pr koi date ya sign nai to b...</td>\n",
       "    </tr>\n",
       "    <tr>\n",
       "      <th>6</th>\n",
       "      <td>M D.</td>\n",
       "      <td>Mobile is original but seller is too lazy in t...</td>\n",
       "    </tr>\n",
       "    <tr>\n",
       "      <th>7</th>\n",
       "      <td>N***.</td>\n",
       "      <td>Phone is perfect but now prices are increased</td>\n",
       "    </tr>\n",
       "    <tr>\n",
       "      <th>8</th>\n",
       "      <td>umair K.</td>\n",
       "      <td>best phone in this price range.</td>\n",
       "    </tr>\n",
       "    <tr>\n",
       "      <th>9</th>\n",
       "      <td>Imran K.</td>\n",
       "      <td>original product 👍</td>\n",
       "    </tr>\n",
       "  </tbody>\n",
       "</table>\n",
       "</div>"
      ],
      "text/plain": [
       "           Name                                        Review text\n",
       "0     Nabeel B.  Cellphone is great, was delivered on said time...\n",
       "1     Salman R.  Great response excellent delivery time and pro...\n",
       "2   Mohammad H.  One of the best in it's category. highly recom...\n",
       "3         M***.        Very good product daraz good service thankx\n",
       "4      hamxa M.                  Original product and good packing\n",
       "5    Saqlain A.  Sir warranty card pr koi date ya sign nai to b...\n",
       "6          M D.  Mobile is original but seller is too lazy in t...\n",
       "7         N***.      Phone is perfect but now prices are increased\n",
       "8      umair K.                   best phone in this price range. \n",
       "9      Imran K.                                 original product 👍"
      ]
     },
     "execution_count": 22,
     "metadata": {},
     "output_type": "execute_result"
    }
   ],
   "source": [
    "#Output\n",
    "df"
   ]
  },
  {
   "cell_type": "markdown",
   "metadata": {},
   "source": [
    "# Question 2"
   ]
  },
  {
   "cell_type": "markdown",
   "metadata": {},
   "source": [
    "Scrape 80 items for a keyword search e.g., 'mobile covers'<br/>Note: Must use \"click()\" function of webElement, URL changing for pages is not allowed. The code must be generic and should work for every keyword, with proper checks in place. Bonus for also scraping country and Daraz Mall availability."
   ]
  },
  {
   "cell_type": "code",
   "execution_count": 4,
   "metadata": {},
   "outputs": [],
   "source": [
    "query = 'mobile covers'\n",
    "url = 'form complete url from query given above by appending to actual url'"
   ]
  },
  {
   "cell_type": "code",
   "execution_count": 19,
   "metadata": {},
   "outputs": [
    {
     "data": {
      "text/html": [
       "<div>\n",
       "<style scoped>\n",
       "    .dataframe tbody tr th:only-of-type {\n",
       "        vertical-align: middle;\n",
       "    }\n",
       "\n",
       "    .dataframe tbody tr th {\n",
       "        vertical-align: top;\n",
       "    }\n",
       "\n",
       "    .dataframe thead th {\n",
       "        text-align: right;\n",
       "    }\n",
       "</style>\n",
       "<table border=\"1\" class=\"dataframe\">\n",
       "  <thead>\n",
       "    <tr style=\"text-align: right;\">\n",
       "      <th></th>\n",
       "      <th>Name</th>\n",
       "      <th>Price</th>\n",
       "      <th>Stars</th>\n",
       "      <th>Reviews</th>\n",
       "    </tr>\n",
       "  </thead>\n",
       "  <tbody>\n",
       "    <tr>\n",
       "      <th>0</th>\n",
       "      <td>Lenuo Luxury 6D Plating Soft Casing Silicone S...</td>\n",
       "      <td>837</td>\n",
       "      <td>4.6</td>\n",
       "      <td>14</td>\n",
       "    </tr>\n",
       "    <tr>\n",
       "      <th>1</th>\n",
       "      <td>Lenuo Luxury 6D Plating Soft Casing Silicone S...</td>\n",
       "      <td>837</td>\n",
       "      <td>4.7</td>\n",
       "      <td>23</td>\n",
       "    </tr>\n",
       "    <tr>\n",
       "      <th>2</th>\n",
       "      <td>Xiaomi Redmi Note 4 Case , Smoky Matte Shock P...</td>\n",
       "      <td>249</td>\n",
       "      <td>4.9</td>\n",
       "      <td>33</td>\n",
       "    </tr>\n",
       "    <tr>\n",
       "      <th>3</th>\n",
       "      <td>Huawei Nova Plus MATTE BLACK FLEXIBLE TPU CASE...</td>\n",
       "      <td>149</td>\n",
       "      <td>5.0</td>\n",
       "      <td>5</td>\n",
       "    </tr>\n",
       "    <tr>\n",
       "      <th>4</th>\n",
       "      <td>For Sony Xperia XZ3 Heavy Duty Armor Tough Hyb...</td>\n",
       "      <td>649</td>\n",
       "      <td>5.0</td>\n",
       "      <td>25</td>\n",
       "    </tr>\n",
       "    <tr>\n",
       "      <th>...</th>\n",
       "      <td>...</td>\n",
       "      <td>...</td>\n",
       "      <td>...</td>\n",
       "      <td>...</td>\n",
       "    </tr>\n",
       "    <tr>\n",
       "      <th>75</th>\n",
       "      <td>Xiaomi Redmi Note 7 / Note 7Pro Case , Smoky M...</td>\n",
       "      <td>249</td>\n",
       "      <td>4.7</td>\n",
       "      <td>46</td>\n",
       "    </tr>\n",
       "    <tr>\n",
       "      <th>76</th>\n",
       "      <td>Xiaomi Poco F3 Case , Soft TPU Camera Protecti...</td>\n",
       "      <td>185</td>\n",
       "      <td>4.9</td>\n",
       "      <td>35</td>\n",
       "    </tr>\n",
       "    <tr>\n",
       "      <th>77</th>\n",
       "      <td>Infinix Note 10 Pro , Full Protection Vinyl Sk...</td>\n",
       "      <td>99</td>\n",
       "      <td>4.6</td>\n",
       "      <td>112</td>\n",
       "    </tr>\n",
       "    <tr>\n",
       "      <th>78</th>\n",
       "      <td>Huawei Nova 3i Antishock Drop Resistance Armor...</td>\n",
       "      <td>449</td>\n",
       "      <td>5.0</td>\n",
       "      <td>58</td>\n",
       "    </tr>\n",
       "    <tr>\n",
       "      <th>79</th>\n",
       "      <td>Handfree Cover Charger Hard Case eva Coin Carr...</td>\n",
       "      <td>127</td>\n",
       "      <td>4.7</td>\n",
       "      <td>75</td>\n",
       "    </tr>\n",
       "  </tbody>\n",
       "</table>\n",
       "<p>80 rows × 4 columns</p>\n",
       "</div>"
      ],
      "text/plain": [
       "                                                 Name  Price  Stars  Reviews\n",
       "0   Lenuo Luxury 6D Plating Soft Casing Silicone S...    837    4.6       14\n",
       "1   Lenuo Luxury 6D Plating Soft Casing Silicone S...    837    4.7       23\n",
       "2   Xiaomi Redmi Note 4 Case , Smoky Matte Shock P...    249    4.9       33\n",
       "3   Huawei Nova Plus MATTE BLACK FLEXIBLE TPU CASE...    149    5.0        5\n",
       "4   For Sony Xperia XZ3 Heavy Duty Armor Tough Hyb...    649    5.0       25\n",
       "..                                                ...    ...    ...      ...\n",
       "75  Xiaomi Redmi Note 7 / Note 7Pro Case , Smoky M...    249    4.7       46\n",
       "76  Xiaomi Poco F3 Case , Soft TPU Camera Protecti...    185    4.9       35\n",
       "77  Infinix Note 10 Pro , Full Protection Vinyl Sk...     99    4.6      112\n",
       "78  Huawei Nova 3i Antishock Drop Resistance Armor...    449    5.0       58\n",
       "79  Handfree Cover Charger Hard Case eva Coin Carr...    127    4.7       75\n",
       "\n",
       "[80 rows x 4 columns]"
      ]
     },
     "execution_count": 19,
     "metadata": {},
     "output_type": "execute_result"
    }
   ],
   "source": [
    "#Output\n",
    "df"
   ]
  },
  {
   "cell_type": "markdown",
   "metadata": {},
   "source": [
    "# Question 3"
   ]
  },
  {
   "cell_type": "markdown",
   "metadata": {},
   "source": [
    "Which Products are on Flash sale? Display Product name, Actual Price, Discounted Price, Discount Percentage, Rating, No. of Reviews, Top 3 reviews displayed.\n",
    "\n",
    "Display output must be like this. Products may vary."
   ]
  },
  {
   "cell_type": "code",
   "execution_count": null,
   "metadata": {},
   "outputs": [],
   "source": [
    "#Run this cell to see output\n",
    "pd.read_csv('sample.csv')"
   ]
  },
  {
   "cell_type": "markdown",
   "metadata": {},
   "source": [
    "# Question 4"
   ]
  },
  {
   "cell_type": "markdown",
   "metadata": {},
   "source": [
    "#### Submit .py file"
   ]
  },
  {
   "cell_type": "code",
   "execution_count": null,
   "metadata": {},
   "outputs": [],
   "source": []
  }
 ],
 "metadata": {
  "kernelspec": {
   "display_name": "Python 3",
   "language": "python",
   "name": "python3"
  },
  "language_info": {
   "codemirror_mode": {
    "name": "ipython",
    "version": 3
   },
   "file_extension": ".py",
   "mimetype": "text/x-python",
   "name": "python",
   "nbconvert_exporter": "python",
   "pygments_lexer": "ipython3",
   "version": "3.8.8"
  }
 },
 "nbformat": 4,
 "nbformat_minor": 2
}
