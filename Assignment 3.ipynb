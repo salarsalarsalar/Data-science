{
 "cells": [
  {
   "cell_type": "markdown",
   "id": "0b23854d",
   "metadata": {},
   "source": [
    "# NumPy Assignment"
   ]
  },
  {
   "cell_type": "markdown",
   "id": "1daa8418",
   "metadata": {},
   "source": [
    "# Q1: Find the counts of unique values row-wise"
   ]
  },
  {
   "cell_type": "code",
   "execution_count": 2,
   "id": "6f498c4a",
   "metadata": {},
   "outputs": [
    {
     "data": {
      "text/plain": [
       "array([[ 9,  9,  4,  8,  8,  1,  5,  3,  6,  3],\n",
       "       [ 3,  3,  2,  1,  9,  5,  1, 10,  7,  3],\n",
       "       [ 5,  2,  6,  4,  5,  5,  4,  8,  2,  2],\n",
       "       [ 8,  8,  1,  3, 10, 10,  4,  3,  6,  9],\n",
       "       [ 2,  1,  8,  7,  3,  1,  9,  3,  6,  2],\n",
       "       [ 9,  2,  6,  5,  3,  9,  4,  6,  1, 10]])"
      ]
     },
     "execution_count": 2,
     "metadata": {},
     "output_type": "execute_result"
    }
   ],
   "source": [
    "import numpy as np\n",
    "np.random.seed(100)\n",
    "arr = np.random.randint(1,11,size=(6, 10))\n",
    "arr"
   ]
  },
  {
   "cell_type": "code",
   "execution_count": 4,
   "id": "dbc704d3",
   "metadata": {},
   "outputs": [
    {
     "data": {
      "text/plain": [
       "[[1, 0, 2, 1, 1, 1, 0, 2, 2, 0],\n",
       " [2, 1, 3, 0, 1, 0, 1, 0, 1, 1],\n",
       " [0, 3, 0, 2, 3, 1, 0, 1, 0, 0],\n",
       " [1, 0, 2, 1, 0, 1, 0, 2, 1, 2],\n",
       " [2, 2, 2, 0, 0, 1, 1, 1, 1, 0],\n",
       " [1, 1, 1, 1, 1, 2, 0, 0, 2, 1]]"
      ]
     },
     "execution_count": 4,
     "metadata": {},
     "output_type": "execute_result"
    }
   ],
   "source": [
    "#Output for just above example"
   ]
  },
  {
   "cell_type": "code",
   "execution_count": 1,
   "id": "6e66bb23",
   "metadata": {},
   "outputs": [
    {
     "ename": "NameError",
     "evalue": "name 'arr' is not defined",
     "output_type": "error",
     "traceback": [
      "\u001b[1;31m---------------------------------------------------------------------------\u001b[0m",
      "\u001b[1;31mNameError\u001b[0m                                 Traceback (most recent call last)",
      "\u001b[1;32m<ipython-input-1-f4cbb15ef008>\u001b[0m in \u001b[0;36m<module>\u001b[1;34m\u001b[0m\n\u001b[0;32m      1\u001b[0m \u001b[1;31m#your code here\u001b[0m\u001b[1;33m\u001b[0m\u001b[1;33m\u001b[0m\u001b[1;33m\u001b[0m\u001b[0m\n\u001b[1;32m----> 2\u001b[1;33m \u001b[0marr\u001b[0m\u001b[1;33m.\u001b[0m\u001b[0msort\u001b[0m\u001b[1;33m(\u001b[0m\u001b[1;33m)\u001b[0m\u001b[1;33m\u001b[0m\u001b[1;33m\u001b[0m\u001b[0m\n\u001b[0m",
      "\u001b[1;31mNameError\u001b[0m: name 'arr' is not defined"
     ]
    }
   ],
   "source": [
    "#your code here\n"
   ]
  },
  {
   "cell_type": "markdown",
   "id": "257be926",
   "metadata": {},
   "source": [
    "Your Output should have 10 columns (numbers from 1 to 10). The values are the counts of the numbers in the respective rows.\n",
    "For example, Cell(0,8) has the value 2, which means, the number 8 occurs exactly 2 times in the 1st row."
   ]
  },
  {
   "cell_type": "markdown",
   "id": "a123cd8c",
   "metadata": {},
   "source": [
    "# Q2: Create this pattern of zeros and ones using only slicing approach. Your code must not be more than 6 lines."
   ]
  },
  {
   "cell_type": "code",
   "execution_count": 14,
   "id": "673dc537",
   "metadata": {},
   "outputs": [
    {
     "name": "stdout",
     "output_type": "stream",
     "text": [
      "[[0 1 0 1 0 1 0 1]\n",
      " [1 0 1 0 1 0 1 0]\n",
      " [0 1 0 1 0 1 0 1]\n",
      " [1 0 1 0 1 0 1 0]\n",
      " [0 1 0 1 0 1 0 1]\n",
      " [1 0 1 0 1 0 1 0]\n",
      " [0 1 0 1 0 1 0 1]\n",
      " [1 0 1 0 1 0 1 0]]\n"
     ]
    }
   ],
   "source": [
    "#Output"
   ]
  },
  {
   "cell_type": "code",
   "execution_count": null,
   "id": "2ebf5162",
   "metadata": {},
   "outputs": [],
   "source": [
    "#your code here"
   ]
  },
  {
   "cell_type": "markdown",
   "id": "309724c9",
   "metadata": {},
   "source": [
    "# Q3: Given below a Numpy Array, display odd rows and even columns. you are not allowed to use loop. Do it with slicing."
   ]
  },
  {
   "cell_type": "code",
   "execution_count": 16,
   "id": "125349c8",
   "metadata": {},
   "outputs": [
    {
     "name": "stdout",
     "output_type": "stream",
     "text": [
      "Input Array\n",
      "[[ 3  8  9 11]\n",
      " [15 18 21 24]\n",
      " [27 29 33 34]\n",
      " [39 42 45 48]\n",
      " [51 52 57 53]]\n",
      "Your Output should be: \n",
      "[[ 8 11]\n",
      " [29 34]\n",
      " [52 53]]\n"
     ]
    }
   ],
   "source": [
    "import numpy\n",
    "sampleArray = numpy.array([[3 ,8, 9, 11], [15 ,18, 21, 24], \n",
    "[27 ,29, 33, 34], [39 ,42, 45, 48], [51 ,52, 57, 53]]) "
   ]
  },
  {
   "cell_type": "code",
   "execution_count": null,
   "id": "cd94a6c9",
   "metadata": {},
   "outputs": [],
   "source": [
    "#your code here"
   ]
  },
  {
   "cell_type": "markdown",
   "id": "c6be141a",
   "metadata": {},
   "source": [
    "# Q4: Detecting all the humps in a 1 Dimentional np array. Humps are values encircled by lower values on both sides. Use NumPy"
   ]
  },
  {
   "cell_type": "markdown",
   "id": "3db0278e",
   "metadata": {},
   "source": [
    "Input: np.array([1,2,9,1,3,7,1,2,10])"
   ]
  },
  {
   "cell_type": "markdown",
   "id": "451efc8b",
   "metadata": {},
   "source": [
    "Output: 9, 7"
   ]
  },
  {
   "cell_type": "code",
   "execution_count": null,
   "id": "ca67df3e",
   "metadata": {},
   "outputs": [],
   "source": [
    "#your code here"
   ]
  }
 ],
 "metadata": {
  "kernelspec": {
   "display_name": "Python 3",
   "language": "python",
   "name": "python3"
  },
  "language_info": {
   "codemirror_mode": {
    "name": "ipython",
    "version": 3
   },
   "file_extension": ".py",
   "mimetype": "text/x-python",
   "name": "python",
   "nbconvert_exporter": "python",
   "pygments_lexer": "ipython3",
   "version": "3.8.8"
  }
 },
 "nbformat": 4,
 "nbformat_minor": 5
}
