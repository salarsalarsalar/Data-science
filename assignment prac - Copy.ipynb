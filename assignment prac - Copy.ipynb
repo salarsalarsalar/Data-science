{
 "cells": [
  {
   "cell_type": "markdown",
   "id": "0cefe561",
   "metadata": {},
   "source": [
    "# QUESTION 4"
   ]
  },
  {
   "cell_type": "code",
   "execution_count": 1,
   "id": "16592bba",
   "metadata": {},
   "outputs": [
    {
     "name": "stdout",
     "output_type": "stream",
     "text": [
      "what is the string:yahya\n",
      "what is the string:yahya\n",
      "what is the string:yahya\n",
      "what is the string:yahya\n",
      "{'a', 'h', 'y'}\n"
     ]
    }
   ],
   "source": [
    "a= input (\"what is the string:\")\n",
    "b= input (\"what is the string:\")\n",
    "c= input (\"what is the string:\")\n",
    "d= input (\"what is the string:\")\n",
    "a_set = set(a)\n",
    "b_set = set(b)\n",
    "c_set = set(c)\n",
    "d_set = set(d)\n",
    "if (a_set & b_set & c_set & d_set):\n",
    "    print(a_set & b_set & c_set & d_set)\n",
    "else:\n",
    "        print(\"No common elements\")\n",
    "          "
   ]
  },
  {
   "cell_type": "markdown",
   "id": "cf53d51a",
   "metadata": {},
   "source": [
    "# QUESTION 5"
   ]
  },
  {
   "cell_type": "code",
   "execution_count": 26,
   "id": "79520724",
   "metadata": {},
   "outputs": [
    {
     "name": "stdout",
     "output_type": "stream",
     "text": [
      "key1: 1 is present in both x and y\n"
     ]
    }
   ],
   "source": [
    "x = {'key1': 1, 'key2': 3, 'key3': 2}\n",
    "y = {'key1': 1, 'key2': 2}\n",
    "for (key, value) in set(x.items()) & set(y.items()):\n",
    "    print('%s: %s is present in both x and y' % (key, value))\n",
    "\t"
   ]
  },
  {
   "cell_type": "markdown",
   "id": "4ea5f057",
   "metadata": {},
   "source": [
    "# QUESTION 6"
   ]
  },
  {
   "cell_type": "code",
   "execution_count": 24,
   "id": "67ca98be",
   "metadata": {},
   "outputs": [
    {
     "name": "stdout",
     "output_type": "stream",
     "text": [
      "enter football\n",
      "{'f': 1, 'o': 2, 't': 1, 'b': 1, 'a': 1, 'l': 2}\n"
     ]
    }
   ],
   "source": [
    "INPUT = input ('enter ')\n",
    "def char_frequency(str1):\n",
    "    dict = {}\n",
    "    for n in str1:\n",
    "        keys = dict.keys()\n",
    "        if n in keys:\n",
    "            dict[n] += 1\n",
    "        else:\n",
    "            dict[n] = 1\n",
    "    return dict\n",
    "print(char_frequency(INPUT))\n"
   ]
  },
  {
   "cell_type": "markdown",
   "id": "e1d3fe5f",
   "metadata": {},
   "source": [
    "# QUESTION 1\n",
    "    "
   ]
  },
  {
   "cell_type": "code",
   "execution_count": 2,
   "id": "dad4af94",
   "metadata": {},
   "outputs": [
    {
     "ename": "SyntaxError",
     "evalue": "invalid syntax (<ipython-input-2-c3e44db77157>, line 5)",
     "output_type": "error",
     "traceback": [
      "\u001b[1;36m  File \u001b[1;32m\"<ipython-input-2-c3e44db77157>\"\u001b[1;36m, line \u001b[1;32m5\u001b[0m\n\u001b[1;33m    if len(largest)<len(word[i])\u001b[0m\n\u001b[1;37m                                ^\u001b[0m\n\u001b[1;31mSyntaxError\u001b[0m\u001b[1;31m:\u001b[0m invalid syntax\n"
     ]
    }
   ],
   "source": [
    "str = input('enter the data:')\n",
    "word= str.split()\n",
    "largest=word[0]\n",
    "for i in range(0,len(word)):\n",
    "    if len(largest)<len(word[i])\n",
    "        largest = word(i)\n",
    "    if len(small)>len(word[i])\n",
    "        small = word(i)\n",
    "print ('smallest word is:'%s smallest)\n",
    "    \n",
    "    \n",
    "\n",
    "\n",
    "    "
   ]
  },
  {
   "cell_type": "markdown",
   "id": "8fff4bcf",
   "metadata": {},
   "source": [
    "# QUESTION 2"
   ]
  },
  {
   "cell_type": "code",
   "execution_count": 13,
   "id": "6c7b746d",
   "metadata": {},
   "outputs": [
    {
     "ename": "TypeError",
     "evalue": "'int' object is not iterable",
     "output_type": "error",
     "traceback": [
      "\u001b[1;31m---------------------------------------------------------------------------\u001b[0m",
      "\u001b[1;31mTypeError\u001b[0m                                 Traceback (most recent call last)",
      "\u001b[1;32m<ipython-input-13-33e0de40c658>\u001b[0m in \u001b[0;36m<module>\u001b[1;34m\u001b[0m\n\u001b[0;32m     19\u001b[0m \u001b[1;33m\u001b[0m\u001b[0m\n\u001b[0;32m     20\u001b[0m \u001b[0ma\u001b[0m \u001b[1;33m=\u001b[0m \u001b[1;34m\" hi how are you\"\u001b[0m\u001b[1;33m\u001b[0m\u001b[1;33m\u001b[0m\u001b[0m\n\u001b[1;32m---> 21\u001b[1;33m \u001b[0mQuestion2\u001b[0m\u001b[1;33m(\u001b[0m\u001b[0ma\u001b[0m\u001b[1;33m)\u001b[0m\u001b[1;33m\u001b[0m\u001b[1;33m\u001b[0m\u001b[0m\n\u001b[0m",
      "\u001b[1;32m<ipython-input-13-33e0de40c658>\u001b[0m in \u001b[0;36mQuestion2\u001b[1;34m(stri)\u001b[0m\n\u001b[0;32m      2\u001b[0m \u001b[1;32mdef\u001b[0m \u001b[0mQuestion2\u001b[0m\u001b[1;33m(\u001b[0m\u001b[0mstri\u001b[0m\u001b[1;33m)\u001b[0m\u001b[1;33m:\u001b[0m\u001b[1;33m\u001b[0m\u001b[1;33m\u001b[0m\u001b[0m\n\u001b[0;32m      3\u001b[0m \u001b[1;31m#     upper = 0, lower = 0, number = 0, special = 0;\u001b[0m\u001b[1;33m\u001b[0m\u001b[1;33m\u001b[0m\u001b[1;33m\u001b[0m\u001b[0m\n\u001b[1;32m----> 4\u001b[1;33m     \u001b[1;32mfor\u001b[0m \u001b[0mi\u001b[0m \u001b[1;32min\u001b[0m \u001b[0mlen\u001b[0m\u001b[1;33m(\u001b[0m\u001b[0mstri\u001b[0m\u001b[1;33m)\u001b[0m\u001b[1;33m:\u001b[0m\u001b[1;33m\u001b[0m\u001b[1;33m\u001b[0m\u001b[0m\n\u001b[0m\u001b[0;32m      5\u001b[0m         \u001b[1;32mif\u001b[0m \u001b[0mstri\u001b[0m\u001b[1;33m[\u001b[0m\u001b[0mi\u001b[0m\u001b[1;33m]\u001b[0m \u001b[1;33m>=\u001b[0m \u001b[1;34m'A'\u001b[0m \u001b[1;33m&\u001b[0m \u001b[0mstri\u001b[0m\u001b[1;33m[\u001b[0m\u001b[0mi\u001b[0m\u001b[1;33m]\u001b[0m \u001b[1;33m<=\u001b[0m \u001b[1;34m'Z'\u001b[0m\u001b[1;33m:\u001b[0m\u001b[1;33m\u001b[0m\u001b[1;33m\u001b[0m\u001b[0m\n\u001b[0;32m      6\u001b[0m             \u001b[0mupper\u001b[0m\u001b[1;33m=\u001b[0m \u001b[0mupper\u001b[0m\u001b[1;33m+\u001b[0m\u001b[1;36m1\u001b[0m\u001b[1;33m\u001b[0m\u001b[1;33m\u001b[0m\u001b[0m\n",
      "\u001b[1;31mTypeError\u001b[0m: 'int' object is not iterable"
     ]
    }
   ],
   "source": [
    "# str = input('please enter the sentence')\n",
    "def Question2(stri):\n",
    "#     upper = 0, lower = 0, number = 0, special = 0;\n",
    "    for i in len(stri):\n",
    "        if stri[i] >= 'A' & stri[i] <= 'Z':\n",
    "            upper= upper+1\n",
    "        elif stri[i] >= 'a' & stri[i] <= 'z':\n",
    "            lower=lower+1\n",
    "        elif stri[i]>= '0' & stri[i]<= '9':\n",
    "            number= number+1\n",
    "        else:\n",
    "            special= special+1\n",
    "        i=i+1\n",
    "    print ('Upper case letters:' , upper)\n",
    "    print ('lower case letters:' , lower)\n",
    "    print ('numbers are:', number)   \n",
    "    print ('Special characters :', special)\n",
    "\n",
    "\n",
    "a = \" hi how are you\"\n",
    "Question2(a)"
   ]
  },
  {
   "cell_type": "raw",
   "id": "a4774043",
   "metadata": {},
   "source": []
  }
 ],
 "metadata": {
  "kernelspec": {
   "display_name": "Python 3",
   "language": "python",
   "name": "python3"
  },
  "language_info": {
   "codemirror_mode": {
    "name": "ipython",
    "version": 3
   },
   "file_extension": ".py",
   "mimetype": "text/x-python",
   "name": "python",
   "nbconvert_exporter": "python",
   "pygments_lexer": "ipython3",
   "version": "3.8.8"
  }
 },
 "nbformat": 4,
 "nbformat_minor": 5
}
