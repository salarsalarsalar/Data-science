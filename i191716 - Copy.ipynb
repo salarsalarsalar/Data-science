{
 "cells": [
  {
   "cell_type": "code",
   "execution_count": 240,
   "id": "c7179cf4-0f34-46c1-9e2d-fd931ac59300",
   "metadata": {},
   "outputs": [
    {
     "name": "stdout",
     "output_type": "stream",
     "text": [
      "Collecting patool\n",
      "  Downloading patool-1.12-py2.py3-none-any.whl (77 kB)\n",
      "Installing collected packages: patool\n",
      "Successfully installed patool-1.12\n"
     ]
    }
   ],
   "source": [
    " !pip install patool"
   ]
  },
  {
   "cell_type": "code",
   "execution_count": 83,
   "id": "c2137ff6-5d1c-44b7-8481-f1918ff0cd00",
   "metadata": {},
   "outputs": [
    {
     "name": "stdout",
     "output_type": "stream",
     "text": [
      "imported\n"
     ]
    }
   ],
   "source": [
    "import ffmpeg  \n",
    "import glob\n",
    "import zipfile\n",
    "from zipfile import ZipFile\n",
    "import shutil\n",
    "import os\n",
    "import pandas as pd\n",
    "import numpy as np\n",
    "import matplotlib.pyplot as plt\n",
    "import patoolib\n",
    "from pydub import AudioSegment\n",
    "import librosa\n",
    "import math\n",
    "import random\n",
    "from pathlib import Path\n",
    "print('imported')"
   ]
  },
  {
   "cell_type": "code",
   "execution_count": 10,
   "id": "8f59d5fc-5469-46b7-898a-b6420edbf828",
   "metadata": {},
   "outputs": [],
   "source": [
    "import os\n",
    "import shutil\n",
    "\n",
    "# define class\n",
    "class mp3_converter():\n",
    "\n",
    "  # the \"init\" function is called when the instance is\n",
    "  # created and ready to be initialized\n",
    "  def __init__(self, path, ext, dirName):\n",
    "      \"\"\"\n",
    "      Class that takes folder of music files of one file type, \n",
    "      converts them to mp3 and creates a new directory and moves them into it\n",
    "      Input path of files that you would like to convert\n",
    "      Extension of files you would like to convert i.e. WAV\n",
    "      Folder name of the new directory you would like to create\n",
    "      \"\"\"\n",
    "      self.path = path\n",
    "      self.ext = ext\n",
    "      self.dirName = dirName\n",
    "  \n",
    "  # create instance methods\n",
    "  def lower_underscore(self):\n",
    "      \"\"\"\n",
    "      Converts all files in path to lowercase\n",
    "      Replaces all spaces in filename with _\n",
    "      \"\"\"\n",
    "      directory = self.path\n",
    "      [os.rename(os.path.join(directory, f), os.path.join(directory, f).replace(' ', '_').lower()) for f in os.listdir(directory)]\n",
    "\n",
    "  def mp3(self):\n",
    "      \"\"\"\n",
    "      Converts all files in path with entered extension to mp3\n",
    "      \"\"\"\n",
    "      directory = self.path\n",
    "\n",
    "      for f in os.listdir(directory):\n",
    "          if (f.endswith(self.ext)):\n",
    "              os.system(\"ffmpeg -i {} -ar 44100 -ac 2 -b:a 192k {}/{}.mp3\".format(\n",
    "                  os.path.join(directory, f), directory, os.path.splitext(f)[0]))\n",
    "\n",
    "  def make_dir(self):\n",
    "      \"\"\"\n",
    "      Creates a directory for mp3's and moves all \n",
    "      previously created mp3's into it\n",
    "      \"\"\"\n",
    "      mp3_directory = self.path + \"/\" + self.dirName\n",
    "      if not os.path.exists(mp3_directory):\n",
    "          os.makedirs(mp3_directory)\n",
    "      for filename in os.listdir(self.path):\n",
    "          if (filename.endswith(\".mp3\")):\n",
    "              source = os.path.join(self.path, filename)\n",
    "              shutil.move(source, mp3_directory)"
   ]
  },
  {
   "cell_type": "code",
   "execution_count": 330,
   "id": "03a1b75b-a64a-4ef3-9cfd-888532746377",
   "metadata": {},
   "outputs": [
    {
     "name": "stdout",
     "output_type": "stream",
     "text": [
      "['i202658' 'i200927' 'i200567' 'i200677' 'i202653' 'i191886' 'i200695'\n",
      " 'i200695' 'i200695' 'i191867' 'i202656' 'i200583' 'i200583' 'i202446'\n",
      " 'i200667' 'i201783' 'i202654' 'i200697' 'i201787' 'i202652' 'i202652'\n",
      " 'i202416' 'i202416' 'i200709' 'i200894' 'i200894' 'i200894' 'i200613'\n",
      " 'i200613' 'i200613' 'i191706' 'i191706' 'i200757' 'i202478' 'i200693'\n",
      " 'i200844' 'i200844' 'i200626' 'i200626' 'i200626' 'i200626' '19I-1696'\n",
      " 'i202651' 'I191664' 'i191714' 'i191714' 'i191714' 'i202454']\n"
     ]
    }
   ],
   "source": [
    "with ZipFile('Assignment 7 part 1-20211201T162400Z-001.zip', 'r') as zipped:\n",
    "    l = zipped.namelist()\n",
    "names = np.array([])\n",
    "names = [] #folder names\n",
    "r = re.compile('Assignment 7 part 1/(((i|I)\\d{,7})|\\w+([\\-]\\d+)).zip')\n",
    "for i in l:\n",
    "    m = re.search(r, i)\n",
    "    if m:\n",
    "        found = m.group(1)\n",
    "    names.append(found)\n",
    "names = np.asarray(names)\n",
    "print(names)"
   ]
  },
  {
   "cell_type": "code",
   "execution_count": 334,
   "id": "8279c22e-8de0-4007-b1d5-cde7b09b772d",
   "metadata": {},
   "outputs": [
    {
     "name": "stdout",
     "output_type": "stream",
     "text": [
      "End of Cell\n"
     ]
    }
   ],
   "source": [
    "#Set Working directory of the Code\n",
    "path = 'C:\\\\Users\\\\Minahil Ashfaq\\\\Downloads'\n",
    "os.chdir(path)\n",
    "\n",
    "# Extract the main .zip file\n",
    "with ZipFile('Assignment 7 part 1-20211201T162400Z-001.zip', 'r') as zipped:\n",
    "    zipped.extractall('./Project')\n",
    "\n",
    "# Get names of extracted folders\n",
    "zip_files = glob.glob('./Project/Assignment 7 part 1/*.zip')\n",
    "rar_files = glob.glob('./Project/Assignment 7 part 1/*.rar')\n",
    "\n",
    "\n",
    "# Extract sub folders [ZIP Files]\n",
    "for zip_file in zip_files:\n",
    "    with ZipFile(f'./'{zip_file}'r') as zippedInside:\n",
    "        folder_name = zip_file[:-4]\n",
    "        if not os.path.exists(folder_name):    \n",
    "            os.makedirs(folder_name)\n",
    "        zippedInside.extractall(folder_name)\n",
    "\n",
    "\n",
    "# Extract sub folders [RAR Files]\n",
    "for rar_file in rar_files:\n",
    "    folder_name = rar_file[:-4]\n",
    "    if not os.path.exists(folder_name):    \n",
    "        os.makedirs(folder_name)\n",
    "    patoolib.extract_archive(rar_file, outdir = folder_name)\n",
    "\n",
    "\n",
    "# Delete files\n",
    "#ZIP File\n",
    "for zip_file in zip_files:\n",
    "    try:\n",
    "        os.remove(zip_file)\n",
    "    except:\n",
    "        print(\"Error while deleting file : \", filePath)\n",
    "        \n",
    "# RAR Files\n",
    "for rar_file in rar_files:\n",
    "    try:\n",
    "        os.remove(rar_file)\n",
    "    except:\n",
    "        print(\"Error while deleting file : \", filePath)\n",
    "        \n",
    "\n",
    "print('End of Cell')"
   ]
  },
  {
   "cell_type": "code",
   "execution_count": 53,
   "id": "cf73aef0-6ce0-4057-a979-6f0d61eac761",
   "metadata": {},
   "outputs": [
    {
     "data": {
      "text/plain": [
       "0"
      ]
     },
     "execution_count": 53,
     "metadata": {},
     "output_type": "execute_result"
    }
   ],
   "source": [
    "'''\n",
    "when we extracted our folders, sub directories of our files were created\n",
    "\n",
    "like this: \n",
    "    folder-> folder-> audio files\n",
    "but in some cases: \n",
    "    folder-> audio files\n",
    "\n",
    "so, for audio extraction we put checks to handle these cases \n",
    "'''"
   ]
  },
  {
   "cell_type": "code",
   "execution_count": 29,
   "id": "e500e637-893a-4cbc-a8e3-c06a67d333a5",
   "metadata": {},
   "outputs": [
    {
     "name": "stdout",
     "output_type": "stream",
     "text": [
      "created\n"
     ]
    }
   ],
   "source": [
    "#CREATE NEW FOLDERS\n",
    "\n",
    "#Set Working directory of the Code\n",
    "path = 'C:\\\\Users\\\\Minahil Ashfaq\\\\Downloads\\\\Project'\n",
    "if not os.path.exists(path): os.mkdir(path)\n",
    "\n",
    "os.chdir(path)\n",
    "\n",
    "\n",
    "if not os.path.exists(path + '/separated_files'): os.mkdir(path + '/separated_files')\n",
    "\n",
    "for no in range(110):\n",
    "    new_folder = path + '/separated_files/' + str(no)\n",
    "    if not os.path.exists(new_folder): os.mkdir(new_folder)\n",
    "\n",
    "print('created')"
   ]
  },
  {
   "cell_type": "code",
   "execution_count": 27,
   "id": "2b9fa859-d6ea-4cf8-a7a1-c76813d10200",
   "metadata": {},
   "outputs": [],
   "source": [
    "#COPIES DATA FROM ONE FOLDER TO ANOTHER\n",
    "\n",
    "def copy_files(project_path, working_path, ind_files):\n",
    "    for idx, file in enumerate(ind_files):\n",
    "        src = working_path + '/' + file\n",
    "        dst = project_path + '/' + 'separated_files/' + str(idx) + '/' + file\n",
    "        shutil.copy(src, dst)\n",
    "        \n",
    "        if idx>103: break"
   ]
  },
  {
   "cell_type": "code",
   "execution_count": 30,
   "id": "af3c9d8b-6a3b-43e5-bb2f-dbef1a9ec016",
   "metadata": {},
   "outputs": [
    {
     "name": "stdout",
     "output_type": "stream",
     "text": [
      "copied\n"
     ]
    }
   ],
   "source": [
    "path = 'C:\\\\Users\\\\Minahil Ashfaq\\\\Downloads\\\\Project'\n",
    "\n",
    "working_path = path + '\\\\Assignment 7 part 1'\n",
    "\n",
    "'''\n",
    "when we extracted our folders, sub directories of our files were created\n",
    "\n",
    "like this: \n",
    "    folder-> folder-> audio files\n",
    "but in some cases: \n",
    "    folder-> audio files\n",
    "\n",
    "so, for audio extraction we put checks to handle these cases \n",
    "'''\n",
    "sub_folders = os.listdir(working_path)\n",
    "\n",
    "for sub_folder in sub_folders:\n",
    "    new_working_path = working_path + '/' + sub_folder\n",
    "    ind_files = os.listdir(new_working_path)\n",
    "    if len(ind_files) != 1: \n",
    "        copy_files(path, new_working_path, ind_files)\n",
    "    else:\n",
    "        new_working_path = new_working_path + '/' + ind_files[0]\n",
    "        ind_files = os.listdir(new_working_path)\n",
    "        if len(ind_files) != 1:\n",
    "            copy_files(path, new_working_path, ind_files)\n",
    "        else:\n",
    "            new_working_path = new_working_path + '/' + ind_files[0]\n",
    "            ind_files = os.listdir(new_working_path)\n",
    "            if len(ind_files) != 1:\n",
    "                copy_files(path, new_working_path, ind_files)\n",
    "            else:\n",
    "                new_working_path = new_working_path + '/' + ind_files[0]\n",
    "                ind_files = os.listdir(new_working_path)\n",
    "                copy_files(path, new_working_path, ind_files)\n",
    "\n",
    "print('copied')"
   ]
  },
  {
   "cell_type": "code",
   "execution_count": 4,
   "id": "1457b0dc-3cf1-4cae-809d-18cffff32902",
   "metadata": {},
   "outputs": [
    {
     "data": {
      "text/plain": [
       "[' A.C chlao.mp3',\n",
       " '20211123_205539.m4a',\n",
       " 'A C band karo.mp3',\n",
       " 'A.C aahista Karo .aac',\n",
       " 'A.C ahista Karo.m4a',\n",
       " 'A.C ahista karo.mp3',\n",
       " 'A.C ahista karo.mp4',\n",
       " 'AC ahista karo.m4a',\n",
       " 'AC ahista karo.mp3',\n",
       " 'AC ahista karo.ogg',\n",
       " 'ac ahista kro.m4a',\n",
       " 'ac ahista kro.mp3',\n",
       " 'AC band karo.mp3',\n",
       " 'Bathroom ka bulb jalao.m4a',\n",
       " 'Ruha A.C  tez karo.mp3',\n",
       " 'Ruha A.C ahista karo.m4a',\n",
       " 'Ruha A.C ahista karo.mp3',\n",
       " 'ruha A.C chalao.mp3',\n",
       " 'Ruha A.C. ahista karo.mp3',\n",
       " 'Ruha AC ahista karo.mp3',\n",
       " 'ruha_ac_ahista_karo.m4a']"
      ]
     },
     "execution_count": 4,
     "metadata": {},
     "output_type": "execute_result"
    }
   ],
   "source": [
    "audio_files"
   ]
  },
  {
   "cell_type": "code",
   "execution_count": 7,
   "id": "1325568c-0dd5-4c59-8952-ba59d815a985",
   "metadata": {},
   "outputs": [
    {
     "name": "stdout",
     "output_type": "stream",
     "text": [
      "done\n"
     ]
    }
   ],
   "source": [
    "from pydub import AudioSegment\n",
    "from wave import open as open_wave \n",
    "import os\n",
    "for i in range(104):\n",
    "    path = f'C:\\\\Users\\\\Minahil Ashfaq\\\\Downloads\\\\Project\\\\separated_files\\\\{i}'\n",
    "    os.chdir(path)\n",
    "\n",
    "    audio_files = os.listdir(path)\n",
    "\n",
    "    for file in audio_files:\n",
    "        name, ext = os.path.splitext(file)\n",
    "        src = os.path.join(path,file)\n",
    "        src=path + r'\\\\' + file\n",
    "        mp3_sound = AudioSegment.from_file(src).export(f\"{name}.wav\", format=\"wav\")\n",
    "print(\"done\")"
   ]
  },
  {
   "cell_type": "code",
   "execution_count": 119,
   "id": "71cecbbb-c0dc-4590-bdd7-5a1e11f1d2e9",
   "metadata": {},
   "outputs": [
    {
     "data": {
      "text/plain": [
       "'C:\\\\\\\\Users\\\\\\\\Minahil Ashfaq\\\\\\\\Downloads\\\\\\\\Project\\\\\\\\separated_files\\\\0'"
      ]
     },
     "execution_count": 119,
     "metadata": {},
     "output_type": "execute_result"
    }
   ],
   "source": [
    "childfolder"
   ]
  },
  {
   "cell_type": "code",
   "execution_count": 123,
   "id": "cc7481a3-ae49-466d-a176-950f84c29b4c",
   "metadata": {},
   "outputs": [
    {
     "data": {
      "text/plain": [
       "'C:\\\\\\\\Users\\\\\\\\Minahil Ashfaq\\\\\\\\Downloads\\\\\\\\Project\\\\\\\\separated_files\\\\99\\\\Washroom ki light jalao.wav'"
      ]
     },
     "execution_count": 123,
     "metadata": {},
     "output_type": "execute_result"
    }
   ],
   "source": [
    "grandchildfolder"
   ]
  },
  {
   "cell_type": "code",
   "execution_count": 132,
   "id": "004b6e9f-1f04-44fa-a6b5-7bfe634450f4",
   "metadata": {},
   "outputs": [
    {
     "data": {
      "text/plain": [
       "array([ 0.        ,  0.        ,  0.        , ..., -0.00022468,\n",
       "       -0.00011735,  0.        ], dtype=float32)"
      ]
     },
     "execution_count": 132,
     "metadata": {},
     "output_type": "execute_result"
    }
   ],
   "source": [
    "x"
   ]
  },
  {
   "cell_type": "code",
   "execution_count": 131,
   "id": "11140359-cf9e-451d-8af0-0de5bcee1398",
   "metadata": {},
   "outputs": [
    {
     "data": {
      "text/plain": [
       "22050"
      ]
     },
     "execution_count": 131,
     "metadata": {},
     "output_type": "execute_result"
    }
   ],
   "source": [
    "sr"
   ]
  },
  {
   "cell_type": "code",
   "execution_count": 136,
   "id": "4c6db504-ee7b-4ce8-aeb9-6ceaf8cd314d",
   "metadata": {},
   "outputs": [
    {
     "data": {
      "text/plain": [
       "array([[-5.8010608e+02, -5.8010608e+02, -5.8010608e+02, ...,\n",
       "        -5.6786523e+02, -5.7038043e+02, -5.7417010e+02],\n",
       "       [ 0.0000000e+00,  0.0000000e+00,  0.0000000e+00, ...,\n",
       "         1.5212930e+01,  1.2666782e+01,  7.8433495e+00],\n",
       "       [ 0.0000000e+00,  0.0000000e+00,  0.0000000e+00, ...,\n",
       "         1.0274893e+01,  9.8933783e+00,  6.4577570e+00],\n",
       "       ...,\n",
       "       [ 0.0000000e+00,  0.0000000e+00,  0.0000000e+00, ...,\n",
       "        -2.2325816e+00,  4.9591082e-01, -9.8464537e-01],\n",
       "       [ 0.0000000e+00,  0.0000000e+00,  0.0000000e+00, ...,\n",
       "        -1.9265697e+00,  4.1097826e-01, -1.5097754e+00],\n",
       "       [ 0.0000000e+00,  0.0000000e+00,  0.0000000e+00, ...,\n",
       "        -1.2832997e+00,  8.3410424e-01, -1.8873650e+00]], dtype=float32)"
      ]
     },
     "execution_count": 136,
     "metadata": {},
     "output_type": "execute_result"
    }
   ],
   "source": [
    "MFCC_Features = librosa.feature.mfcc(y=x, sr=sr)\n",
    "MFCC_Features"
   ]
  },
  {
   "cell_type": "code",
   "execution_count": 140,
   "id": "8ff617b4-6ac1-4469-b4e6-4bbf13a03fdd",
   "metadata": {},
   "outputs": [
    {
     "data": {
      "text/plain": [
       "'C:\\\\\\\\Users\\\\\\\\Minahil Ashfaq\\\\\\\\Downloads\\\\\\\\Project\\\\\\\\separated_files\\\\99\\\\99'"
      ]
     },
     "execution_count": 140,
     "metadata": {},
     "output_type": "execute_result"
    }
   ],
   "source": [
    "grandchildfolder"
   ]
  },
  {
   "cell_type": "code",
   "execution_count": 144,
   "id": "61aaf862-452d-408c-9e47-5be6a62f2320",
   "metadata": {
    "tags": []
   },
   "outputs": [],
   "source": [
    "import os, zipfile\n",
    "import pandas as pd\n",
    "import numpy as np\n",
    "\n",
    "data = pd.DataFrame()\n",
    "path = r'C:\\\\Users\\\\Minahil Ashfaq\\\\Downloads\\\\Project\\\\separated_files'\n",
    "folder = os.listdir(path)\n",
    "MFCC = np.array([])\n",
    "for i in folder:\n",
    "#     name, ext = os.path.splitext(i)\n",
    "    childfolder = os.path.join(path, i)\n",
    "    mp3_list=os.listdir(childfolder)\n",
    "    for j in mp3_list:\n",
    "        grandchildfolder =os.path.join(childfolder,i)\n",
    "        if \".wav\" in grandchildfolder:\n",
    "            x , sr = librosa.load(grandchildfolder)\n",
    "            MFCC_Features = librosa.feature.mfcc(y=x, sr=sr)\n",
    "            MFCC.append(MFCC_Features)\n",
    "            data = data.append({'X': x,'sample_rate':sr,'filename': j,'folder': i}, ignore_index=True)\n",
    "#     x , sr = librosa.load(grandchildfolder)\n",
    "#     for j in grandchildfolder:\n",
    "#         if \".wav\" in j:\n",
    "#             print(j)\n",
    "#             grandgrandchildfolder = os.path.join(grandchildfolder, j)\n",
    "#             x , sr = librosa.load(grandgrandchildfolder)\n",
    "#         data = data.append({'Name': j,'file': i}, ignore_index=True)\n",
    "\n",
    "# data\n",
    "# print(MFCC_Features)"
   ]
  },
  {
   "cell_type": "code",
   "execution_count": 145,
   "id": "559776c7-fd96-4062-b85d-7c78bc522d03",
   "metadata": {},
   "outputs": [
    {
     "data": {
      "text/html": [
       "<div>\n",
       "<style scoped>\n",
       "    .dataframe tbody tr th:only-of-type {\n",
       "        vertical-align: middle;\n",
       "    }\n",
       "\n",
       "    .dataframe tbody tr th {\n",
       "        vertical-align: top;\n",
       "    }\n",
       "\n",
       "    .dataframe thead th {\n",
       "        text-align: right;\n",
       "    }\n",
       "</style>\n",
       "<table border=\"1\" class=\"dataframe\">\n",
       "  <thead>\n",
       "    <tr style=\"text-align: right;\">\n",
       "      <th></th>\n",
       "    </tr>\n",
       "  </thead>\n",
       "  <tbody>\n",
       "  </tbody>\n",
       "</table>\n",
       "</div>"
      ],
      "text/plain": [
       "Empty DataFrame\n",
       "Columns: []\n",
       "Index: []"
      ]
     },
     "execution_count": 145,
     "metadata": {},
     "output_type": "execute_result"
    }
   ],
   "source": [
    "data"
   ]
  },
  {
   "cell_type": "code",
   "execution_count": 71,
   "id": "4522dd12-438b-40f7-b2db-4e3dbb1829ff",
   "metadata": {},
   "outputs": [],
   "source": [
    "target=data[data['Name'].str.contains(\".wav\",regex =False)]"
   ]
  },
  {
   "cell_type": "code",
   "execution_count": 148,
   "id": "fd8443dc-27bb-4d1c-864b-06955a93aa19",
   "metadata": {},
   "outputs": [
    {
     "data": {
      "text/html": [
       "<div>\n",
       "<style scoped>\n",
       "    .dataframe tbody tr th:only-of-type {\n",
       "        vertical-align: middle;\n",
       "    }\n",
       "\n",
       "    .dataframe tbody tr th {\n",
       "        vertical-align: top;\n",
       "    }\n",
       "\n",
       "    .dataframe thead th {\n",
       "        text-align: right;\n",
       "    }\n",
       "</style>\n",
       "<table border=\"1\" class=\"dataframe\">\n",
       "  <thead>\n",
       "    <tr style=\"text-align: right;\">\n",
       "      <th></th>\n",
       "      <th>Name</th>\n",
       "      <th>file</th>\n",
       "    </tr>\n",
       "  </thead>\n",
       "  <tbody>\n",
       "    <tr>\n",
       "      <th>1</th>\n",
       "      <td>_A.C_chlao.wav</td>\n",
       "      <td>0</td>\n",
       "    </tr>\n",
       "    <tr>\n",
       "      <th>3</th>\n",
       "      <td>20211123_205539.wav</td>\n",
       "      <td>0</td>\n",
       "    </tr>\n",
       "    <tr>\n",
       "      <th>5</th>\n",
       "      <td>A_C_band_karo.wav</td>\n",
       "      <td>0</td>\n",
       "    </tr>\n",
       "    <tr>\n",
       "      <th>7</th>\n",
       "      <td>A.C_aahista_Karo_.wav</td>\n",
       "      <td>0</td>\n",
       "    </tr>\n",
       "    <tr>\n",
       "      <th>11</th>\n",
       "      <td>A.C_ahista_Karo.wav</td>\n",
       "      <td>0</td>\n",
       "    </tr>\n",
       "    <tr>\n",
       "      <th>...</th>\n",
       "      <td>...</td>\n",
       "      <td>...</td>\n",
       "    </tr>\n",
       "    <tr>\n",
       "      <th>4353</th>\n",
       "      <td>washroom_ka_bulb_on_kro_.wav</td>\n",
       "      <td>99</td>\n",
       "    </tr>\n",
       "    <tr>\n",
       "      <th>4355</th>\n",
       "      <td>washroom_ka_bulb_on_kro.wav</td>\n",
       "      <td>99</td>\n",
       "    </tr>\n",
       "    <tr>\n",
       "      <th>4357</th>\n",
       "      <td>Washroom_ka_light_jalao.wav</td>\n",
       "      <td>99</td>\n",
       "    </tr>\n",
       "    <tr>\n",
       "      <th>4360</th>\n",
       "      <td>Washroom_ki_Light_band_karo.wav</td>\n",
       "      <td>99</td>\n",
       "    </tr>\n",
       "    <tr>\n",
       "      <th>4363</th>\n",
       "      <td>Washroom_ki_light_jalao.wav</td>\n",
       "      <td>99</td>\n",
       "    </tr>\n",
       "  </tbody>\n",
       "</table>\n",
       "<p>1960 rows × 2 columns</p>\n",
       "</div>"
      ],
      "text/plain": [
       "                                 Name file\n",
       "1                      _A.C_chlao.wav    0\n",
       "3                 20211123_205539.wav    0\n",
       "5                   A_C_band_karo.wav    0\n",
       "7               A.C_aahista_Karo_.wav    0\n",
       "11                A.C_ahista_Karo.wav    0\n",
       "...                               ...  ...\n",
       "4353     washroom_ka_bulb_on_kro_.wav   99\n",
       "4355      washroom_ka_bulb_on_kro.wav   99\n",
       "4357      Washroom_ka_light_jalao.wav   99\n",
       "4360  Washroom_ki_Light_band_karo.wav   99\n",
       "4363      Washroom_ki_light_jalao.wav   99\n",
       "\n",
       "[1960 rows x 2 columns]"
      ]
     },
     "execution_count": 148,
     "metadata": {},
     "output_type": "execute_result"
    }
   ],
   "source": [
    "target"
   ]
  },
  {
   "cell_type": "code",
   "execution_count": 95,
   "id": "4fa8c924-959a-4534-a459-f25c7a886856",
   "metadata": {},
   "outputs": [
    {
     "data": {
      "text/plain": [
       "1                        _A.C_chlao.wav\n",
       "3                   20211123_205539.wav\n",
       "5                     A_C_band_karo.wav\n",
       "7                 A.C_aahista_Karo_.wav\n",
       "11                  A.C_ahista_Karo.wav\n",
       "                     ...               \n",
       "4353       washroom_ka_bulb_on_kro_.wav\n",
       "4355        washroom_ka_bulb_on_kro.wav\n",
       "4357        Washroom_ka_light_jalao.wav\n",
       "4360    Washroom_ki_Light_band_karo.wav\n",
       "4363        Washroom_ki_light_jalao.wav\n",
       "Name: Name, Length: 1960, dtype: object"
      ]
     },
     "execution_count": 95,
     "metadata": {},
     "output_type": "execute_result"
    }
   ],
   "source": [
    "target['Name'].str.replace(\" \",\"_\",regex=True)"
   ]
  },
  {
   "cell_type": "code",
   "execution_count": 112,
   "id": "d3dbfa2e-8909-4165-82f9-c0865212501a",
   "metadata": {},
   "outputs": [
    {
     "data": {
      "text/plain": [
       "'C:\\\\Users\\\\Minahil Ashfaq\\\\Downloads\\\\Project\\\\separated_files'"
      ]
     },
     "execution_count": 112,
     "metadata": {},
     "output_type": "execute_result"
    }
   ],
   "source": [
    "os.getcwd()\n",
    "os.chdir('C:\\\\Users\\\\Minahil Ashfaq\\\\Downloads\\\\Project\\\\separated_files')\n",
    "os.getcwd()"
   ]
  },
  {
   "cell_type": "code",
   "execution_count": 103,
   "id": "d9114d14-d391-41e7-b8a9-1ff22d38a813",
   "metadata": {},
   "outputs": [
    {
     "ename": "TypeError",
     "evalue": "Invalid file: 1                        _A.C_chlao.wav\n3                   20211123_205539.wav\n5                     A_C_band_karo.wav\n7                 A.C_aahista_Karo_.wav\n11                  A.C_ahista_Karo.wav\n                     ...               \n4353       washroom_ka_bulb_on_kro_.wav\n4355        washroom_ka_bulb_on_kro.wav\n4357        Washroom_ka_light_jalao.wav\n4360    Washroom_ki_Light_band_karo.wav\n4363        Washroom_ki_light_jalao.wav\nName: Name, Length: 1960, dtype: object",
     "output_type": "error",
     "traceback": [
      "\u001b[1;31m---------------------------------------------------------------------------\u001b[0m",
      "\u001b[1;31mTypeError\u001b[0m                                 Traceback (most recent call last)",
      "\u001b[1;32m<ipython-input-103-835d5f128fc2>\u001b[0m in \u001b[0;36m<module>\u001b[1;34m\u001b[0m\n\u001b[1;32m----> 1\u001b[1;33m \u001b[0mx\u001b[0m \u001b[1;33m,\u001b[0m \u001b[0msr\u001b[0m \u001b[1;33m=\u001b[0m \u001b[0mlibrosa\u001b[0m\u001b[1;33m.\u001b[0m\u001b[0mload\u001b[0m\u001b[1;33m(\u001b[0m\u001b[0mtarget\u001b[0m\u001b[1;33m[\u001b[0m\u001b[1;34m'Name'\u001b[0m\u001b[1;33m]\u001b[0m\u001b[1;33m)\u001b[0m\u001b[1;33m\u001b[0m\u001b[1;33m\u001b[0m\u001b[0m\n\u001b[0m",
      "\u001b[1;32m~\\anaconda3\\lib\\site-packages\\librosa\\core\\audio.py\u001b[0m in \u001b[0;36mload\u001b[1;34m(path, sr, mono, offset, duration, dtype, res_type)\u001b[0m\n\u001b[0;32m    147\u001b[0m \u001b[1;33m\u001b[0m\u001b[0m\n\u001b[0;32m    148\u001b[0m     \u001b[1;32mtry\u001b[0m\u001b[1;33m:\u001b[0m\u001b[1;33m\u001b[0m\u001b[1;33m\u001b[0m\u001b[0m\n\u001b[1;32m--> 149\u001b[1;33m         \u001b[1;32mwith\u001b[0m \u001b[0msf\u001b[0m\u001b[1;33m.\u001b[0m\u001b[0mSoundFile\u001b[0m\u001b[1;33m(\u001b[0m\u001b[0mpath\u001b[0m\u001b[1;33m)\u001b[0m \u001b[1;32mas\u001b[0m \u001b[0msf_desc\u001b[0m\u001b[1;33m:\u001b[0m\u001b[1;33m\u001b[0m\u001b[1;33m\u001b[0m\u001b[0m\n\u001b[0m\u001b[0;32m    150\u001b[0m             \u001b[0msr_native\u001b[0m \u001b[1;33m=\u001b[0m \u001b[0msf_desc\u001b[0m\u001b[1;33m.\u001b[0m\u001b[0msamplerate\u001b[0m\u001b[1;33m\u001b[0m\u001b[1;33m\u001b[0m\u001b[0m\n\u001b[0;32m    151\u001b[0m             \u001b[1;32mif\u001b[0m \u001b[0moffset\u001b[0m\u001b[1;33m:\u001b[0m\u001b[1;33m\u001b[0m\u001b[1;33m\u001b[0m\u001b[0m\n",
      "\u001b[1;32m~\\anaconda3\\lib\\site-packages\\soundfile.py\u001b[0m in \u001b[0;36m__init__\u001b[1;34m(self, file, mode, samplerate, channels, subtype, endian, format, closefd)\u001b[0m\n\u001b[0;32m    627\u001b[0m         self._info = _create_info_struct(file, mode, samplerate, channels,\n\u001b[0;32m    628\u001b[0m                                          format, subtype, endian)\n\u001b[1;32m--> 629\u001b[1;33m         \u001b[0mself\u001b[0m\u001b[1;33m.\u001b[0m\u001b[0m_file\u001b[0m \u001b[1;33m=\u001b[0m \u001b[0mself\u001b[0m\u001b[1;33m.\u001b[0m\u001b[0m_open\u001b[0m\u001b[1;33m(\u001b[0m\u001b[0mfile\u001b[0m\u001b[1;33m,\u001b[0m \u001b[0mmode_int\u001b[0m\u001b[1;33m,\u001b[0m \u001b[0mclosefd\u001b[0m\u001b[1;33m)\u001b[0m\u001b[1;33m\u001b[0m\u001b[1;33m\u001b[0m\u001b[0m\n\u001b[0m\u001b[0;32m    630\u001b[0m         \u001b[1;32mif\u001b[0m \u001b[0mset\u001b[0m\u001b[1;33m(\u001b[0m\u001b[0mmode\u001b[0m\u001b[1;33m)\u001b[0m\u001b[1;33m.\u001b[0m\u001b[0missuperset\u001b[0m\u001b[1;33m(\u001b[0m\u001b[1;34m'r+'\u001b[0m\u001b[1;33m)\u001b[0m \u001b[1;32mand\u001b[0m \u001b[0mself\u001b[0m\u001b[1;33m.\u001b[0m\u001b[0mseekable\u001b[0m\u001b[1;33m(\u001b[0m\u001b[1;33m)\u001b[0m\u001b[1;33m:\u001b[0m\u001b[1;33m\u001b[0m\u001b[1;33m\u001b[0m\u001b[0m\n\u001b[0;32m    631\u001b[0m             \u001b[1;31m# Move write position to 0 (like in Python file objects)\u001b[0m\u001b[1;33m\u001b[0m\u001b[1;33m\u001b[0m\u001b[1;33m\u001b[0m\u001b[0m\n",
      "\u001b[1;32m~\\anaconda3\\lib\\site-packages\\soundfile.py\u001b[0m in \u001b[0;36m_open\u001b[1;34m(self, file, mode_int, closefd)\u001b[0m\n\u001b[0;32m   1180\u001b[0m                                             mode_int, self._info, _ffi.NULL)\n\u001b[0;32m   1181\u001b[0m         \u001b[1;32melse\u001b[0m\u001b[1;33m:\u001b[0m\u001b[1;33m\u001b[0m\u001b[1;33m\u001b[0m\u001b[0m\n\u001b[1;32m-> 1182\u001b[1;33m             \u001b[1;32mraise\u001b[0m \u001b[0mTypeError\u001b[0m\u001b[1;33m(\u001b[0m\u001b[1;34m\"Invalid file: {0!r}\"\u001b[0m\u001b[1;33m.\u001b[0m\u001b[0mformat\u001b[0m\u001b[1;33m(\u001b[0m\u001b[0mself\u001b[0m\u001b[1;33m.\u001b[0m\u001b[0mname\u001b[0m\u001b[1;33m)\u001b[0m\u001b[1;33m)\u001b[0m\u001b[1;33m\u001b[0m\u001b[1;33m\u001b[0m\u001b[0m\n\u001b[0m\u001b[0;32m   1183\u001b[0m         _error_check(_snd.sf_error(file_ptr),\n\u001b[0;32m   1184\u001b[0m                      \"Error opening {0!r}: \".format(self.name))\n",
      "\u001b[1;31mTypeError\u001b[0m: Invalid file: 1                        _A.C_chlao.wav\n3                   20211123_205539.wav\n5                     A_C_band_karo.wav\n7                 A.C_aahista_Karo_.wav\n11                  A.C_ahista_Karo.wav\n                     ...               \n4353       washroom_ka_bulb_on_kro_.wav\n4355        washroom_ka_bulb_on_kro.wav\n4357        Washroom_ka_light_jalao.wav\n4360    Washroom_ki_Light_band_karo.wav\n4363        Washroom_ki_light_jalao.wav\nName: Name, Length: 1960, dtype: object"
     ]
    }
   ],
   "source": [
    "x , sr = librosa.load(target['Name'])"
   ]
  },
  {
   "cell_type": "code",
   "execution_count": null,
   "id": "319fdca5-39a3-4f54-99a1-d2523c69396d",
   "metadata": {},
   "outputs": [],
   "source": [
    "MFCC_Features = librosa.feature.mfcc(y=X, sr=sample_rate)"
   ]
  },
  {
   "cell_type": "code",
   "execution_count": null,
   "id": "2418f0e6-5185-4f0a-a0d1-62a243eb6a1a",
   "metadata": {},
   "outputs": [],
   "source": [
    "target['MFCC']=MFCC_Features"
   ]
  },
  {
   "cell_type": "code",
   "execution_count": 109,
   "id": "f6553009-f890-4b9b-8f02-09d609bc12eb",
   "metadata": {},
   "outputs": [],
   "source": [
    "test_target = target.sample(n=250)"
   ]
  },
  {
   "cell_type": "code",
   "execution_count": 146,
   "id": "d3d26e2f-a590-4358-92f3-41e7745e0279",
   "metadata": {},
   "outputs": [],
   "source": [
    "import numpy as np\n",
    "import math\n",
    "def euclidean_distance(x, y):\n",
    "    sum1 = 0\n",
    "    temp = x - y\n",
    "    # dot product operator in numpy\n",
    "    sum1 = temp.T @ temp\n",
    "    return sqrt(sum1)\n",
    "\n",
    "def knn(pred,label,X_train,Y_train,k):\n",
    "    #making a prediction array\n",
    "    pre=[]\n",
    "    \n",
    "    for i in range(len(X_train)): \n",
    "            euc_d=euclidean_distance(pred,X_train[i])\n",
    "            pre.append((euc_d,Y_train[i]))\n",
    "    \n",
    "    pre.sort(key=lambda x:x[0])\n",
    "    \n",
    "    temppre=[]\n",
    "    for j in range(k):\n",
    "        temppre.append(pre[j][1])\n",
    "    if(mode(temppre)==label):\n",
    "        return True\n",
    "    else:\n",
    "        return False"
   ]
  },
  {
   "cell_type": "code",
   "execution_count": 147,
   "id": "cf0aeedc-db81-45a3-a39e-d4429c960d49",
   "metadata": {},
   "outputs": [],
   "source": [
    "def k_value(X_test,Y_test,X_train,Y_train,k):   \n",
    "    total=len(X_test)\n",
    "    truecount=0\n",
    "\n",
    "    for i in range(len(X_test)):\n",
    "        #define the k-value here\n",
    "        result=knn(X_test[i],Y_test[i],X_train,Y_train,k)\n",
    "        if(result==True):\n",
    "            truecount+=1\n",
    "\n",
    "    accuracy=(truecount/total)*100\n",
    "    return accuracy"
   ]
  }
 ],
 "metadata": {
  "kernelspec": {
   "display_name": "Python 3",
   "language": "python",
   "name": "python3"
  },
  "language_info": {
   "codemirror_mode": {
    "name": "ipython",
    "version": 3
   },
   "file_extension": ".py",
   "mimetype": "text/x-python",
   "name": "python",
   "nbconvert_exporter": "python",
   "pygments_lexer": "ipython3",
   "version": "3.8.8"
  },
  "toc-autonumbering": false,
  "toc-showcode": false,
  "toc-showmarkdowntxt": false
 },
 "nbformat": 4,
 "nbformat_minor": 5
}
