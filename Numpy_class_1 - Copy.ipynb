{
  "nbformat": 4,
  "nbformat_minor": 5,
  "metadata": {
    "kernelspec": {
      "display_name": "Python 3",
      "language": "python",
      "name": "python3"
    },
    "language_info": {
      "codemirror_mode": {
        "name": "ipython",
        "version": 3
      },
      "file_extension": ".py",
      "mimetype": "text/x-python",
      "name": "python",
      "nbconvert_exporter": "python",
      "pygments_lexer": "ipython3",
      "version": "3.8.8"
    },
    "colab": {
      "name": "Numpy class 1.ipynb",
      "provenance": []
    }
  },
  "cells": [
    {
      "cell_type": "code",
      "metadata": {
        "id": "45ebc0ab"
      },
      "source": [
        "import numpy as np"
      ],
      "id": "45ebc0ab",
      "execution_count": null,
      "outputs": []
    },
    {
      "cell_type": "code",
      "metadata": {
        "id": "30c3087b"
      },
      "source": [
        "# %timeit [i+1 for i in range(900000000)]"
      ],
      "id": "30c3087b",
      "execution_count": null,
      "outputs": []
    },
    {
      "cell_type": "code",
      "metadata": {
        "id": "4297a854",
        "outputId": "99aecea2-2e52-455d-e56e-5794e1543e97"
      },
      "source": [
        "# %timeit np.arange(900000000)+1"
      ],
      "id": "4297a854",
      "execution_count": null,
      "outputs": [
        {
          "name": "stdout",
          "output_type": "stream",
          "text": [
            "2.64 ms ± 42.2 µs per loop (mean ± std. dev. of 7 runs, 100 loops each)\n"
          ]
        }
      ]
    },
    {
      "cell_type": "code",
      "metadata": {
        "id": "3c8ceb95",
        "outputId": "8ef71681-c2c2-41e1-d443-c5459f1d4764"
      },
      "source": [
        "n=np.array([1,2,3,4])\n",
        "n"
      ],
      "id": "3c8ceb95",
      "execution_count": null,
      "outputs": [
        {
          "data": {
            "text/plain": [
              "array([1, 2, 3, 4])"
            ]
          },
          "execution_count": 3,
          "metadata": {},
          "output_type": "execute_result"
        }
      ]
    },
    {
      "cell_type": "code",
      "metadata": {
        "id": "a8c102ec",
        "outputId": "26f37d98-f433-4c48-a646-02f6284bc68d"
      },
      "source": [
        "b=np.array([[1,2,3],[4,5,6],[7,8,9]])\n",
        "type(b)"
      ],
      "id": "a8c102ec",
      "execution_count": null,
      "outputs": [
        {
          "data": {
            "text/plain": [
              "numpy.ndarray"
            ]
          },
          "execution_count": 5,
          "metadata": {},
          "output_type": "execute_result"
        }
      ]
    },
    {
      "cell_type": "code",
      "metadata": {
        "id": "361000ce",
        "outputId": "3301c603-b90c-46b7-d073-3f1e1b2be22a"
      },
      "source": [
        "l=[1,2,3,4]\n",
        "p=np.array(l)\n",
        "p"
      ],
      "id": "361000ce",
      "execution_count": null,
      "outputs": [
        {
          "data": {
            "text/plain": [
              "array([1, 2, 3, 4])"
            ]
          },
          "execution_count": 6,
          "metadata": {},
          "output_type": "execute_result"
        }
      ]
    },
    {
      "cell_type": "code",
      "metadata": {
        "id": "e9531e97",
        "outputId": "234ee621-350a-4cee-cae5-b55a70f3f91b"
      },
      "source": [
        "k=np.linspace(1,10,4)\n",
        "print(k)"
      ],
      "id": "e9531e97",
      "execution_count": null,
      "outputs": [
        {
          "name": "stdout",
          "output_type": "stream",
          "text": [
            "[ 1.  4.  7. 10.]\n"
          ]
        }
      ]
    },
    {
      "cell_type": "code",
      "metadata": {
        "id": "6d985e0b",
        "outputId": "e0095e84-d948-44f5-a993-602e0951945f"
      },
      "source": [
        "y=np.loadtxt(\"file.txt\",delimiter=\"and\")\n",
        "print(y)"
      ],
      "id": "6d985e0b",
      "execution_count": null,
      "outputs": [
        {
          "name": "stdout",
          "output_type": "stream",
          "text": [
            "[1. 2. 3.]\n"
          ]
        }
      ]
    },
    {
      "cell_type": "code",
      "metadata": {
        "id": "574a065d",
        "outputId": "ae3d2b10-6aed-41fe-974d-8aabfc5927da"
      },
      "source": [
        "s=np.empty((3,3))\n",
        "s"
      ],
      "id": "574a065d",
      "execution_count": null,
      "outputs": [
        {
          "data": {
            "text/plain": [
              "array([[0.00000000e+000, 0.00000000e+000, 0.00000000e+000],\n",
              "       [0.00000000e+000, 0.00000000e+000, 5.51377261e-321],\n",
              "       [1.05699242e-307, 8.01097888e-307, 2.80103444e-312]])"
            ]
          },
          "execution_count": 10,
          "metadata": {},
          "output_type": "execute_result"
        }
      ]
    },
    {
      "cell_type": "code",
      "metadata": {
        "id": "7aa91f73",
        "outputId": "59c0eaef-9ea7-407b-b5a2-ee5e657d7318"
      },
      "source": [
        "import numpy as np\n",
        "a=np.array([1,2,3,4,5,6])\n",
        "print(a)"
      ],
      "id": "7aa91f73",
      "execution_count": null,
      "outputs": [
        {
          "name": "stdout",
          "output_type": "stream",
          "text": [
            "[1 2 3 4 5 6]\n"
          ]
        }
      ]
    },
    {
      "cell_type": "code",
      "metadata": {
        "id": "17a29f42",
        "outputId": "bfd87f9c-14b4-4add-f16a-36676827c357"
      },
      "source": [
        "print (a[0])\n",
        "print (a[4])"
      ],
      "id": "17a29f42",
      "execution_count": null,
      "outputs": [
        {
          "name": "stdout",
          "output_type": "stream",
          "text": [
            "1\n",
            "5\n"
          ]
        }
      ]
    },
    {
      "cell_type": "code",
      "metadata": {
        "id": "3caa8176",
        "outputId": "60293e47-18fa-44b8-d2b1-d80c46567686"
      },
      "source": [
        "a[[0,4]]"
      ],
      "id": "3caa8176",
      "execution_count": null,
      "outputs": [
        {
          "data": {
            "text/plain": [
              "array([1, 5])"
            ]
          },
          "execution_count": 8,
          "metadata": {},
          "output_type": "execute_result"
        }
      ]
    },
    {
      "cell_type": "code",
      "metadata": {
        "id": "4b722c07"
      },
      "source": [
        "a\n",
        "a=[1,2,3,4,5,6]"
      ],
      "id": "4b722c07",
      "execution_count": null,
      "outputs": []
    },
    {
      "cell_type": "code",
      "metadata": {
        "id": "a41bf07d",
        "outputId": "7980e2fa-34af-4957-9324-16189099d077"
      },
      "source": [
        "b=[]\n",
        "for i in a:\n",
        "    if(i%2!=0):\n",
        "        b.append(0)\n",
        "    else:\n",
        "        b.append(i)\n",
        "print (b)    "
      ],
      "id": "a41bf07d",
      "execution_count": null,
      "outputs": [
        {
          "name": "stdout",
          "output_type": "stream",
          "text": [
            "[0, 2, 0, 4, 0, 6]\n"
          ]
        }
      ]
    },
    {
      "cell_type": "code",
      "metadata": {
        "id": "5ae85a33",
        "outputId": "cc381714-172b-4ebc-f705-c7f807449cf0"
      },
      "source": [
        "# k=a%2==0\n",
        "# k\n",
        "# print (a[k])\n",
        "\n",
        "a[a%2!=0]=0\n",
        "print (a)\n",
        "\n",
        "\n",
        "# b=a%2==0\n",
        "# a[a%2!=0]=0\n",
        "# print(b)\n",
        "# print(a[b])\n",
        "# print(a)"
      ],
      "id": "5ae85a33",
      "execution_count": null,
      "outputs": [
        {
          "name": "stdout",
          "output_type": "stream",
          "text": [
            "[0 2 0 4 0 6]\n"
          ]
        }
      ]
    },
    {
      "cell_type": "code",
      "metadata": {
        "id": "fa74070b",
        "outputId": "20cf1eb7-500a-4b89-baaa-6450f647090d"
      },
      "source": [
        "a=np.array([1,2,3,10,5,6],np.int8)\n",
        "print(a)"
      ],
      "id": "fa74070b",
      "execution_count": null,
      "outputs": [
        {
          "name": "stdout",
          "output_type": "stream",
          "text": [
            "[ 1  2  3 10  5  6]\n"
          ]
        }
      ]
    },
    {
      "cell_type": "code",
      "metadata": {
        "id": "e39d0e9f",
        "outputId": "75e7fca1-7c79-47ba-ea82-0375047fd8d9"
      },
      "source": [
        "a.shape"
      ],
      "id": "e39d0e9f",
      "execution_count": null,
      "outputs": [
        {
          "data": {
            "text/plain": [
              "(6,)"
            ]
          },
          "execution_count": 31,
          "metadata": {},
          "output_type": "execute_result"
        }
      ]
    },
    {
      "cell_type": "code",
      "metadata": {
        "scrolled": true,
        "id": "76af5d29",
        "outputId": "bbd8ea1c-4a96-431d-a72c-270a69da0877"
      },
      "source": [
        "a.ndim"
      ],
      "id": "76af5d29",
      "execution_count": null,
      "outputs": [
        {
          "data": {
            "text/plain": [
              "1"
            ]
          },
          "execution_count": 32,
          "metadata": {},
          "output_type": "execute_result"
        }
      ]
    },
    {
      "cell_type": "code",
      "metadata": {
        "id": "5cf401f8",
        "outputId": "7d7087e8-5b42-4743-ce13-b80730ed2dac"
      },
      "source": [
        "a.dtype"
      ],
      "id": "5cf401f8",
      "execution_count": null,
      "outputs": [
        {
          "data": {
            "text/plain": [
              "dtype('int8')"
            ]
          },
          "execution_count": 33,
          "metadata": {},
          "output_type": "execute_result"
        }
      ]
    },
    {
      "cell_type": "code",
      "metadata": {
        "id": "d8c7c446",
        "outputId": "8d7c8fa2-dfbb-45a3-a12e-ecde3b580b8f"
      },
      "source": [
        "a.size"
      ],
      "id": "d8c7c446",
      "execution_count": null,
      "outputs": [
        {
          "data": {
            "text/plain": [
              "6"
            ]
          },
          "execution_count": 34,
          "metadata": {},
          "output_type": "execute_result"
        }
      ]
    },
    {
      "cell_type": "code",
      "metadata": {
        "id": "8ecf2004",
        "outputId": "565f2115-604b-4d76-b2ef-cffc972acf79"
      },
      "source": [
        "a.nbytes"
      ],
      "id": "8ecf2004",
      "execution_count": null,
      "outputs": [
        {
          "data": {
            "text/plain": [
              "6"
            ]
          },
          "execution_count": 35,
          "metadata": {},
          "output_type": "execute_result"
        }
      ]
    },
    {
      "cell_type": "code",
      "metadata": {
        "id": "67d5e1f1",
        "outputId": "f958df93-d250-43a1-f8ff-4c05eef26b3c"
      },
      "source": [
        "a.argmax()"
      ],
      "id": "67d5e1f1",
      "execution_count": null,
      "outputs": [
        {
          "data": {
            "text/plain": [
              "3"
            ]
          },
          "execution_count": 37,
          "metadata": {},
          "output_type": "execute_result"
        }
      ]
    },
    {
      "cell_type": "code",
      "metadata": {
        "id": "0b9c4e18",
        "outputId": "9951847b-635e-4393-e96a-6b3c28ad593a"
      },
      "source": [
        "a.argmin()"
      ],
      "id": "0b9c4e18",
      "execution_count": null,
      "outputs": [
        {
          "data": {
            "text/plain": [
              "0"
            ]
          },
          "execution_count": 38,
          "metadata": {},
          "output_type": "execute_result"
        }
      ]
    },
    {
      "cell_type": "code",
      "metadata": {
        "id": "bf0de369",
        "outputId": "6b1dd703-ebc2-4b80-ad7c-499263668d93"
      },
      "source": [
        "a.argsort()"
      ],
      "id": "bf0de369",
      "execution_count": null,
      "outputs": [
        {
          "data": {
            "text/plain": [
              "array([0, 1, 2, 4, 5, 3], dtype=int64)"
            ]
          },
          "execution_count": 39,
          "metadata": {},
          "output_type": "execute_result"
        }
      ]
    },
    {
      "cell_type": "code",
      "metadata": {
        "id": "49b50342"
      },
      "source": [
        ""
      ],
      "id": "49b50342",
      "execution_count": null,
      "outputs": []
    }
  ]
}