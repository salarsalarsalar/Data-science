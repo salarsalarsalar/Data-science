{
 "cells": [
  {
   "cell_type": "code",
   "execution_count": 11,
   "id": "70308c25-ae7a-491f-9015-ab2297a75e21",
   "metadata": {},
   "outputs": [],
   "source": [
    "import glob\n",
    "import zipfile\n",
    "from zipfile import ZipFile\n",
    "import shutil\n",
    "import os\n",
    "import pandas as pd\n",
    "import numpy as np\n",
    "import matplotlib.pyplot as plt\n",
    "import regex as re"
   ]
  },
  {
   "cell_type": "code",
   "execution_count": 9,
   "id": "52fb40dd-eda7-4ab9-aaf9-83e293ed569b",
   "metadata": {},
   "outputs": [],
   "source": [
    "# with ZipFile('Assignment 7 part 1-20211201T162400Z-001.zip', 'r') as zipped:\n",
    "#     l = zipped.namelist()\n",
    "# for i in l:\n",
    "#     with ZipFile(i, 'r') as zip:\n",
    "#         zip.extractall()"
   ]
  },
  {
   "cell_type": "code",
   "execution_count": 10,
   "id": "6a626c73-4c06-45fc-ae4b-5372211bd9e9",
   "metadata": {},
   "outputs": [],
   "source": [
    "zip = ZipFile('Assignment 7 part 1-20211201T162400Z-001.zip')\n",
    "zip.extractall()\n"
   ]
  },
  {
   "cell_type": "code",
   "execution_count": null,
   "id": "3529924b-07d6-4644-be12-5f1844994f2e",
   "metadata": {},
   "outputs": [],
   "source": []
  }
 ],
 "metadata": {
  "kernelspec": {
   "display_name": "Python 3",
   "language": "python",
   "name": "python3"
  },
  "language_info": {
   "codemirror_mode": {
    "name": "ipython",
    "version": 3
   },
   "file_extension": ".py",
   "mimetype": "text/x-python",
   "name": "python",
   "nbconvert_exporter": "python",
   "pygments_lexer": "ipython3",
   "version": "3.8.8"
  }
 },
 "nbformat": 4,
 "nbformat_minor": 5
}
