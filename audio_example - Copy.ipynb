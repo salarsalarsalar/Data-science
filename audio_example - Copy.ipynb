{
 "cells": [
  {
   "cell_type": "code",
   "execution_count": 6,
   "id": "69ea586b-df10-4128-ae8d-d2e59e8ff17b",
   "metadata": {},
   "outputs": [
    {
     "name": "stderr",
     "output_type": "stream",
     "text": [
      "ERROR: Could not find a version that satisfies the requirement urllib2\n",
      "ERROR: No matching distribution found for urllib2\n"
     ]
    }
   ],
   "source": [
    "!pip install urllib2"
   ]
  },
  {
   "cell_type": "code",
   "execution_count": 15,
   "id": "29009e37-9fcf-4fe8-8926-2cd0908b5e2c",
   "metadata": {},
   "outputs": [
    {
     "data": {
      "text/plain": [
       "32.0"
      ]
     },
     "execution_count": 15,
     "metadata": {},
     "output_type": "execute_result"
    }
   ],
   "source": [
    "import math\n",
    "math.pow(2,5)"
   ]
  },
  {
   "cell_type": "code",
   "execution_count": null,
   "id": "179665cb-882e-4fc1-9ad8-4f6338c9e9be",
   "metadata": {},
   "outputs": [],
   "source": []
  },
  {
   "cell_type": "code",
   "execution_count": 2,
   "id": "c96f9019-c535-46a7-9ac9-549c4cfccb24",
   "metadata": {},
   "outputs": [
    {
     "data": {
      "text/plain": [
       "8"
      ]
     },
     "execution_count": 2,
     "metadata": {},
     "output_type": "execute_result"
    }
   ],
   "source": [
    "import numpy as np\n",
    "point1 = np.array((1, 2, 3))\n",
    "point2 = np.array((1, 2, 1))\n",
    "point1 @ point2"
   ]
  },
  {
   "cell_type": "code",
   "execution_count": 3,
   "id": "a14e3294-3060-4d4f-bbcf-fd2d4f91ec23",
   "metadata": {},
   "outputs": [
    {
     "data": {
      "text/plain": [
       "8"
      ]
     },
     "execution_count": 3,
     "metadata": {},
     "output_type": "execute_result"
    }
   ],
   "source": [
    "np.dot(point1,point2)"
   ]
  },
  {
   "cell_type": "code",
   "execution_count": 16,
   "id": "9bb253e4-1879-473c-9294-ffcfc47534ad",
   "metadata": {},
   "outputs": [
    {
     "name": "stdout",
     "output_type": "stream",
     "text": [
      "2.23606797749979\n"
     ]
    }
   ],
   "source": [
    "\n",
    "# Python code to find Euclidean distance\n",
    "# using dot()\n",
    " \n",
    "import numpy as np\n",
    " \n",
    "# initializing points in\n",
    "# numpy arrays\n",
    "point1 = np.array((1, 2, 3))\n",
    "point2 = np.array((1, 1, 1))\n",
    " \n",
    "# subtracting vector\n",
    "temp = point1 - point2\n",
    " \n",
    "# doing dot product\n",
    "# for finding\n",
    "# sum of the squares\n",
    "sum_sq = np.dot(temp.T, temp)\n",
    " \n",
    "# Doing squareroot and\n",
    "# printing Euclidean distance\n",
    "print(np.sqrt(sum_sq))"
   ]
  },
  {
   "cell_type": "code",
   "execution_count": 4,
   "id": "7f45aef6-1ca2-47bb-a323-7b273af3e4f7",
   "metadata": {},
   "outputs": [
    {
     "name": "stdout",
     "output_type": "stream",
     "text": [
      "2.23606797749979\n"
     ]
    }
   ],
   "source": [
    "\n",
    "# Python code to find Euclidean distance\n",
    "# using dot()\n",
    " \n",
    "import numpy as np\n",
    " \n",
    "# initializing points in\n",
    "# numpy arrays\n",
    "point1 = np.array((1, 2, 3))\n",
    "point2 = np.array((1, 1, 1))\n",
    " \n",
    "# subtracting vector\n",
    "temp = point1 - point2\n",
    " \n",
    "# doing dot product\n",
    "# for finding\n",
    "# sum of the squares\n",
    "sum_sq = temp.T @ temp \n",
    "# Doing squareroot and\n",
    "# printing Euclidean distance\n",
    "print(np.sqrt(sum_sq))"
   ]
  },
  {
   "cell_type": "code",
   "execution_count": null,
   "id": "9f241204-e5a6-4ba0-a564-e57907acb413",
   "metadata": {},
   "outputs": [],
   "source": [
    "'''\n",
    "iframe_extract.py - download video and ffmpeg i-frame extraction\n",
    "Usage: \n",
    "(ex) python iframe_extract.py -u https://www.youtube.com/watch?v=dP15zlyra3c\n",
    "This code does two things:\n",
    "1. Download using youtube-dl\n",
    "cmd = ['youtube-dl', '-f', videoSize, '-k', '-o', video_out, download_url]\n",
    "2. Extract i-frames via ffmpeg\n",
    "cmd = [ffmpeg,'-i', inFile,'-f', 'image2','-vf',\n",
    "        \"select='eq(pict_type,PICT_TYPE_I)'\",'-vsync','vfr', imgFilenames]\n",
    "'''\n",
    "\n",
    "from __future__ import unicode_literals\n",
    "import youtube_dl\n",
    "\n",
    "import sys\n",
    "import os\n",
    "import subprocess\n",
    "import argparse\n",
    "import glob\n",
    "\n",
    "if sys.platform == \"Windows\":\n",
    "    FFMPEG_BIN = \"ffmpeg.exe\"\n",
    "    MOVE = \"move\"\n",
    "    MKDIR = \"mkdir\"\n",
    "else:\n",
    "    FFMPEG_BIN = \"ffmpeg\"\n",
    "    MOVE = \"mv\"\n",
    "    MKDIR = \"md\"\n",
    "\n",
    "\n",
    "def iframe_extract(inFile):\n",
    "# ffmpeg -i inFile -f image2 -vf \\\n",
    "#   \"select='eq(pict_type,PICT_TYPE_I)'\" -vsync vfr oString%03d.png\n",
    "\n",
    "    # infile : video file name \n",
    "    #          (ex) 'FoxSnowDive-Yellowstone-BBCTwo.mp4'\n",
    "    imgPrefix = inFile.split('.')[0]\n",
    "    # imgPrefix : image file \n",
    "\n",
    "    # start extracting i-frames\n",
    "    home = os.path.expanduser(\"~\")\n",
    "    ffmpeg = home + '/bin/ffmpeg'\n",
    "\n",
    "    imgFilenames = imgPrefix + '%03d.png'\n",
    "  \n",
    "    cmd = [ffmpeg,'-i', inFile,'-f', 'image2','-vf',\n",
    "        \"select='eq(pict_type,PICT_TYPE_I)'\",'-vsync','vfr', imgFilenames]\n",
    "    \n",
    "    # create iframes\n",
    "    print \"creating iframes ....\"\n",
    "    subprocess.call(cmd)\n",
    "\n",
    "    # Move the extracted iframes to a subfolder\n",
    "    # imgPrefix is used as a subfolder name that stores iframe images\n",
    "    cmd = 'mkdir -p ' + imgPrefix\n",
    "    os.system(cmd)\n",
    "    print \"make subdirectoy\", cmd\n",
    "    mvcmd = 'mv ' + imgPrefix + '*.png ' + imgPrefix\n",
    "    print \"moving images to subdirectoy\", mvcmd\n",
    "    os.system(mvcmd)\n",
    "\n",
    "\n",
    "\n",
    "def get_info_and_download(download_url):\n",
    "\n",
    "    # Get video meta info and then download using youtube-dl\n",
    "\n",
    "    ydl_opts = {}\n",
    "\n",
    "    # get meta info from the video\n",
    "    with youtube_dl.YoutubeDL(ydl_opts) as ydl:\n",
    "        meta = ydl.extract_info(download_url, download=False)\n",
    "\n",
    "    # renaming the file \n",
    "    # remove special characters from the file name\n",
    "    print('meta[title]=%s' %meta['title'])\n",
    "    out = ''.join(c for c in meta['title'] if c.isalnum() or c =='-' or c =='_' ) \n",
    "    print('out=%s' %out)\n",
    "    extension = meta['ext']\n",
    "    video_out = out + '.' + extension\n",
    "    print('video_out=%s' %video_out)\n",
    "    videoSize = 'bestvideo[height<=540]+bestaudio/best[height<=540]'\n",
    "    cmd = ['youtube-dl', '-f', videoSize, '-k', '-o', video_out, download_url]\n",
    "    print('cmd=%s' %cmd)\n",
    "\n",
    "    # download the video\n",
    "    subprocess.call(cmd)\n",
    "\n",
    "    # Sometimes output file has format code in name such as 'out.f248.webm'\n",
    "    # so, in this case, we want to rename it 'out.webm' \n",
    "    found = False\n",
    "    extension_list = ['mkv', 'mp4', 'webm']\n",
    "    for e in extension_list:\n",
    "       glob_str = '*.' + e\n",
    "       for f in glob.glob(glob_str):\n",
    "          if out in f:\n",
    "             if os.path.isfile(f):\n",
    "                video_out = f\n",
    "                found = True\n",
    "                break\n",
    "       if found:\n",
    "          break\n",
    "       \n",
    "    # call iframe-extraction : ffmpeg\n",
    "    print('before iframe_extract() video_out=%s' %video_out)\n",
    "    iframe_extract(video_out)\n",
    "    return meta\n",
    "\n",
    "\n",
    "\n",
    "def check_arg(args=None):\n",
    "\n",
    "# Command line options\n",
    "# Currently, only the url option is used\n",
    "\n",
    "    parser = argparse.ArgumentParser(description='download video')\n",
    "    parser.add_argument('-u', '--url',\n",
    "                        help='download url',\n",
    "                        required='True')\n",
    "    parser.add_argument('-i', '--infile',\n",
    "                        help='input to iframe extract')\n",
    "    parser.add_argument('-o', '--outfile',\n",
    "                        help='output name for iframe image')\n",
    "\n",
    "    results = parser.parse_args(args)\n",
    "    return (results.url,\n",
    "            results.infile,\n",
    "            results.outfile)\n",
    "\n",
    "\n",
    "# Usage sample:\n",
    "#    syntax: python iframe_extract.py -u url\n",
    "#    (ex) python iframe_extract.py -u https://www.youtube.com/watch?v=dP15zlyra3c\n",
    "\n",
    "if __name__ == '__main__':\n",
    "    u,i,o = check_arg(sys.argv[1:])\n",
    "    meta = get_info_and_download(u)"
   ]
  }
 ],
 "metadata": {
  "kernelspec": {
   "display_name": "Python 3",
   "language": "python",
   "name": "python3"
  },
  "language_info": {
   "codemirror_mode": {
    "name": "ipython",
    "version": 3
   },
   "file_extension": ".py",
   "mimetype": "text/x-python",
   "name": "python",
   "nbconvert_exporter": "python",
   "pygments_lexer": "ipython3",
   "version": "3.8.8"
  }
 },
 "nbformat": 4,
 "nbformat_minor": 5
}
